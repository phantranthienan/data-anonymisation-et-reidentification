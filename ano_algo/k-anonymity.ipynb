{
 "cells": [
  {
   "cell_type": "code",
   "execution_count": 9,
   "metadata": {},
   "outputs": [],
   "source": [
    "import numpy as np\n",
    "import pandas as pd\n",
    "import datetime as dt\n",
    "from sklearn.cluster import KMeans\n",
    "from sklearn.preprocessing import StandardScaler\n",
    "import hashlib\n",
    "\n",
    "\n",
    "# Load data\n",
    "columns_name = ['id', 'date', 'latitude', 'longitude']\n",
    "original_data = pd.read_csv('./large_dis_format.csv', names=columns_name, sep='\\t')\n",
    "\n",
    "# Convert 'date' to datetime format and extract ISO week\n",
    "original_data['date'] = pd.to_datetime(original_data['date'])\n",
    "original_data['week'] = original_data['date'].dt.isocalendar().week"
   ]
  },
  {
   "cell_type": "code",
   "execution_count": null,
   "metadata": {},
   "outputs": [],
   "source": [
    "original_data"
   ]
  },
  {
   "cell_type": "code",
   "execution_count": 11,
   "metadata": {},
   "outputs": [],
   "source": [
    "# Generate anonymized id\n",
    "def anonymize_id(user_id, week): \n",
    "    \"\"\"Generate an anonymized id from the user_id and week\"\"\"\n",
    "    pseudo = f\"{user_id}_{week}\"\n",
    "    hashed_id =  hashlib.sha256(pseudo.encode()).hexdigest()[:10]\n",
    "    return hashed_id  \n",
    "\n",
    "original_data['anonymized_id'] = original_data.apply(\n",
    "    lambda row: anonymize_id(row['id'], row['week']), axis=1\n",
    ")   "
   ]
  },
  {
   "cell_type": "code",
   "execution_count": 12,
   "metadata": {},
   "outputs": [],
   "source": [
    "# Standardiz latitude and longitude for clustering\n",
    "scaler = StandardScaler()\n",
    "coords = original_data[['latitude', 'longitude']]\n",
    "scaled_coords = scaler.fit_transform(coords)"
   ]
  },
  {
   "cell_type": "code",
   "execution_count": null,
   "metadata": {},
   "outputs": [],
   "source": [
    "# Apply KMeans clustering for K-Anonymity\n",
    "k = 10\n",
    "kmeans = KMeans(n_clusters=int(len(coords)/k), random_state=42)\n",
    "original_data['cluster'] = kmeans.fit_predict(scaled_coords)\n",
    "original_data"
   ]
  },
  {
   "cell_type": "code",
   "execution_count": 14,
   "metadata": {},
   "outputs": [],
   "source": [
    "# Replace latitude and longitude with cluster centroids\n",
    "centroids = scaler.inverse_transform(kmeans.cluster_centers_)\n",
    "original_data['anonymized_latitude'] = original_data['cluster'].apply(lambda x: centroids[x][0])\n",
    "original_data['anonymized_longitude'] = original_data['cluster'].apply(lambda x: centroids[x][1])"
   ]
  },
  {
   "cell_type": "code",
   "execution_count": null,
   "metadata": {},
   "outputs": [],
   "source": [
    "# Save anonymized data\n",
    "anonymized_data = original_data[['anonymized_id', 'date', 'anonymized_latitude', 'anonymized_longitude']]\n",
    "anonymized_data.columns = ['id', 'date', 'latitude', 'longitude']\n",
    "anonymized_data"
   ]
  },
  {
   "cell_type": "code",
   "execution_count": null,
   "metadata": {},
   "outputs": [],
   "source": [
    "from zip import zip_csv_file\n",
    "anonymized_data.to_csv('./k_anonymized_data.csv', index=False, sep='\\t', header=False)\n",
    "zip_csv_file('./k_anonymized_data.csv', './k_anonymized_data.zip')"
   ]
  }
 ],
 "metadata": {
  "kernelspec": {
   "display_name": ".env",
   "language": "python",
   "name": "python3"
  },
  "language_info": {
   "codemirror_mode": {
    "name": "ipython",
    "version": 3
   },
   "file_extension": ".py",
   "mimetype": "text/x-python",
   "name": "python",
   "nbconvert_exporter": "python",
   "pygments_lexer": "ipython3",
   "version": "3.12.4"
  }
 },
 "nbformat": 4,
 "nbformat_minor": 2
}
