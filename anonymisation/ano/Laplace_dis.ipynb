{
 "cells": [
  {
   "cell_type": "code",
   "execution_count": 1,
   "metadata": {},
   "outputs": [
    {
     "name": "stdout",
     "output_type": "stream",
     "text": [
      "Successfully created D:/INSA/semetre 7/projet/Anonym/INSAnonym-master-serv/INSAnonym-master/scripts/metrics/anonymisation/file_origin/big_survey_results (1).zip\n",
      "Improved anonymized data saved to ../file_ano/Laplace_anonymized_big_survey_results.csv\n",
      "Successfully created ../file_ano/Laplace_anonymized_big_survey_results.zip\n"
     ]
    },
    {
     "data": {
      "text/plain": [
       "True"
      ]
     },
     "execution_count": 1,
     "metadata": {},
     "output_type": "execute_result"
    }
   ],
   "source": [
    "import pandas as pd\n",
    "import hashlib\n",
    "import random\n",
    "from datetime import datetime, timedelta\n",
    "import numpy as np\n",
    "from zip import zip_csv_file\n",
    "\n",
    "def add_laplace_noise(value, epsilon, sensitivity=20):\n",
    "    \"\"\"Add Laplace noise to a value based on epsilon and sensitivity.\"\"\"\n",
    "    \"\"\"\n",
    "     Sensitivity depends on the maximum possible geographic distance between two points.\n",
    "     Epsilon: the level of privacy protection\n",
    "     ε > 1 : Low Privacy, High Utility\n",
    "     0.1 <= ε <= 1: Moderate Privacy, Moderate Utility\n",
    "     ε < 0.1: High Privacy, Low Utility\n",
    "    \"\"\"\n",
    "    scale = sensitivity / epsilon\n",
    "    noise = np.random.laplace(loc=0.0, scale=scale)\n",
    "    return value + noise\n",
    "\n",
    "def anonymize_data_improved(input_file, output_file, gps_epsilon=1.0, time_shift_minutes=0):\n",
    "    \"\"\"\n",
    "    An improved anonymization algorithm with enhanced privacy and utility.\n",
    "\n",
    "    Args:\n",
    "        input_file (str): Path to the input CSV file.\n",
    "        output_file (str): Path to the output anonymized CSV file.\n",
    "        gps_epsilon (float): Privacy budget (ε) for GPS anonymization.\n",
    "        time_shift_minutes (int): Maximum random shift (in minutes) for timestamps.\n",
    "\n",
    "    Returns:\n",
    "        None. Saves the anonymized dataset to the output file.\n",
    "    \"\"\"\n",
    "    # Load the data with custom delimiter (tab-separated)\n",
    "    df = pd.read_csv(input_file, delimiter=\"\\t\", names=[\"ID\", \"Date\", \"Latitude\", \"Longitude\"])\n",
    "    \n",
    "    # Convert the Date column to datetime\n",
    "    df[\"Date\"] = pd.to_datetime(df[\"Date\"])\n",
    "    \n",
    "    # Add week and year columns for grouping\n",
    "    df[\"Week\"] = df[\"Date\"].dt.isocalendar().week\n",
    "    df[\"Year\"] = df[\"Date\"].dt.isocalendar().year\n",
    "\n",
    "    # Generate anonymized IDs\n",
    "    def hash_id(row):\n",
    "        raw = f\"{row['ID']}.{row['Year']}-{row['Week']}\"\n",
    "        return hashlib.md5(raw.encode()).hexdigest()[:8]\n",
    "\n",
    "    df[\"AnonID\"] = df.apply(hash_id, axis=1)\n",
    "\n",
    "    # Modify dates to stay within the same week and optionally add noise\n",
    "    def randomize_date(date):\n",
    "        start_of_week = date - timedelta(days=date.weekday())\n",
    "        randomized_date = start_of_week + timedelta(days=random.randint(0, 6))\n",
    "        time_shift = timedelta(minutes=random.randint(-time_shift_minutes, time_shift_minutes))\n",
    "        return randomized_date + time_shift\n",
    "\n",
    "    df[\"AnonDate\"] = df[\"Date\"].apply(randomize_date)\n",
    "\n",
    "    # Add Laplace noise to GPS coordinates\n",
    "    df[\"AnonLatitude\"] = df[\"Latitude\"].apply(lambda x: add_laplace_noise(x, gps_epsilon))\n",
    "    df[\"AnonLongitude\"] = df[\"Longitude\"].apply(lambda x: add_laplace_noise(x, gps_epsilon))\n",
    "\n",
    "    # Save the anonymized dataset\n",
    "    anonymized_df = df[[\"AnonID\", \"AnonDate\", \"AnonLatitude\", \"AnonLongitude\"]]\n",
    "    anonymized_df.columns = [\"ID\", \"Date\", \"Latitude\", \"Longitude\"]\n",
    "    anonymized_df.to_csv(output_file, index=False, sep=\"\\t\", header=False)\n",
    "    print(f\"Improved anonymized data saved to {output_file}\")\n",
    "\n",
    "# Example usage\n",
    "anonymize_data_improved(\n",
    "    input_file=\"../file_origin/big_survey_results.csv\",  \n",
    "    output_file=\"../file_ano/Laplace_anonymized_big_survey_results.csv\",  \n",
    "    gps_epsilon=1.0,  # Adjust ε for privacy level\n",
    "    time_shift_minutes=0  # Adjust temporal shift if needed\n",
    ")\n",
    "\n",
    "zip_csv_file('../file_ano/Laplace_anonymized_big_survey_results.csv', '../file_ano/Laplace_anonymized_big_survey_results.zip')"
   ]
  },
  {
   "cell_type": "code",
   "execution_count": 5,
   "metadata": {},
   "outputs": [
    {
     "name": "stdout",
     "output_type": "stream",
     "text": [
      "Successfully created ../file_ano/laplace_anonymized_data.zip\n"
     ]
    },
    {
     "data": {
      "text/plain": [
       "True"
      ]
     },
     "execution_count": 5,
     "metadata": {},
     "output_type": "execute_result"
    }
   ],
   "source": [
    "zip_csv_file('../file_ano/anonymized_big_survey_results.csv', '../file_ano/anonymized_big_survey_results.zip')"
   ]
  }
 ],
 "metadata": {
  "kernelspec": {
   "display_name": "Python 3",
   "language": "python",
   "name": "python3"
  },
  "language_info": {
   "codemirror_mode": {
    "name": "ipython",
    "version": 3
   },
   "file_extension": ".py",
   "mimetype": "text/x-python",
   "name": "python",
   "nbconvert_exporter": "python",
   "pygments_lexer": "ipython3",
   "version": "3.13.0"
  }
 },
 "nbformat": 4,
 "nbformat_minor": 2
}
