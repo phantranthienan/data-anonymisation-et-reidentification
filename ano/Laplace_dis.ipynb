{
 "cells": [
  {
   "cell_type": "code",
   "execution_count": 6,
   "metadata": {},
   "outputs": [
    {
     "name": "stdout",
     "output_type": "stream",
     "text": [
      "Anonymized data saved to ../file_ano/anonymized_geo_data_1.csv\n"
     ]
    }
   ],
   "source": [
    "import pandas as pd\n",
    "import hashlib\n",
    "import random\n",
    "from datetime import datetime, timedelta\n",
    "import numpy as np\n",
    "\n",
    "def add_laplace_noise(value, scale):\n",
    "    \"\"\"Add Laplace noise to a value.\"\"\"\n",
    "    noise = np.random.laplace(loc=0.0, scale=scale)\n",
    "    return value + noise\n",
    "\n",
    "def anonymize_data(input_file, output_file, gps_scale=0.1):\n",
    "    \"\"\"\n",
    "    Anonymize a dataset based on the specified rules.\n",
    "\n",
    "    Args:\n",
    "        input_file (str): Path to the input CSV file.\n",
    "        output_file (str): Path to the output anonymized CSV file.\n",
    "        gps_scale (float): Scale parameter for Laplace noise for GPS anonymization.\n",
    "\n",
    "    Returns:\n",
    "        None. Saves the anonymized dataset to the output file.\n",
    "    \"\"\"\n",
    "    # Load the data with custom delimiter (tab-separated)\n",
    "    df = pd.read_csv(input_file, delimiter=\"\\t\", names=[\"ID\", \"Date\", \"Latitude\", \"Longitude\"])\n",
    "    \n",
    "    # Convert the Date column to datetime\n",
    "    df[\"Date\"] = pd.to_datetime(df[\"Date\"])\n",
    "    \n",
    "    # Add week and year columns for grouping\n",
    "    df[\"Week\"] = df[\"Date\"].dt.isocalendar().week\n",
    "    df[\"Year\"] = df[\"Date\"].dt.isocalendar().year\n",
    "\n",
    "    # Generate anonymized IDs\n",
    "    def hash_id(row):\n",
    "        raw = f\"{row['ID']}.{row['Year']}-{row['Week']}\"\n",
    "        return hashlib.md5(raw.encode()).hexdigest()[:8]\n",
    "\n",
    "    df[\"AnonID\"] = df.apply(hash_id, axis=1)\n",
    "\n",
    "    # Modify dates to stay within the same week\n",
    "    def randomize_date(date):\n",
    "        start_of_week = date - timedelta(days=date.weekday())\n",
    "        return start_of_week + timedelta(days=random.randint(0, 6))\n",
    "\n",
    "    df[\"AnonDate\"] = df[\"Date\"].apply(randomize_date)\n",
    "\n",
    "    # Add Laplace noise to GPS coordinates\n",
    "    df[\"AnonLatitude\"] = df[\"Latitude\"].apply(lambda x: add_laplace_noise(x, gps_scale))\n",
    "    df[\"AnonLongitude\"] = df[\"Longitude\"].apply(lambda x: add_laplace_noise(x, gps_scale))\n",
    "\n",
    "    # Save the anonymized dataset\n",
    "    anonymized_df = df[[\"AnonID\", \"AnonDate\", \"AnonLatitude\", \"AnonLongitude\"]]\n",
    "    anonymized_df.columns = [\"ID\", \"Date\", \"Latitude\", \"Longitude\"]\n",
    "    anonymized_df.to_csv(output_file, index=False, sep=\"\\t\")\n",
    "    print(f\"Anonymized data saved to {output_file}\")\n",
    "\n",
    "# Example usage\n",
    "anonymize_data(\n",
    "    input_file=\"../file_origin/geo_data_1_format.csv\",  # Replace with your actual input file name\n",
    "    output_file=\"../file_ano/anonymized_geo_data_1.csv\",  # Replace with your desired output file name\n",
    "    gps_scale=0.1  # Adjust scale if needed\n",
    ")"
   ]
  }
 ],
 "metadata": {
  "kernelspec": {
   "display_name": "venv",
   "language": "python",
   "name": "python3"
  },
  "language_info": {
   "codemirror_mode": {
    "name": "ipython",
    "version": 3
   },
   "file_extension": ".py",
   "mimetype": "text/x-python",
   "name": "python",
   "nbconvert_exporter": "python",
   "pygments_lexer": "ipython3",
   "version": "3.11.6"
  }
 },
 "nbformat": 4,
 "nbformat_minor": 2
}
