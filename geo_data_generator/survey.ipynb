{
 "cells": [
  {
   "cell_type": "code",
   "execution_count": 1,
   "metadata": {},
   "outputs": [],
   "source": [
    "from datetime import datetime\n",
    "from models.Survey import Survey\n",
    "from utils.format import replace_commas_with_tabs_in_place\n"
   ]
  },
  {
   "cell_type": "code",
   "execution_count": 2,
   "metadata": {},
   "outputs": [],
   "source": [
    "# Define survey parameters\n",
    "city_name = \"Ho Chi Minh City\"  # City name to dynamically determine center point\n",
    "radius = 5000  # 5 km radius\n",
    "number_of_people = 5\n",
    "start_date = datetime(2025, 1, 1)  # Start of the survey\n",
    "end_date = datetime(2025, 1, 31)  # End of the survey"
   ]
  },
  {
   "cell_type": "code",
   "execution_count": 3,
   "metadata": {},
   "outputs": [
    {
     "name": "stdout",
     "output_type": "stream",
     "text": [
      "Center point of Ho Chi Minh City: (10.7763897, 106.7011391)\n",
      "graph_cache\n",
      "Generating graph for center point (10.7763897, 106.7011391) with radius 10000 meters...\n",
      "Graph saved to cache: graph_cache/bbe0da46817468df47fa24e2372a110f.pkl\n",
      "Scanning for residential...\n",
      "Scanning for residential near (10.7763897, 106.7011391) within 10000 meters...\n",
      "Found 600 residential.\n",
      "Scanning for parks...\n",
      "Scanning for parks near (10.7763897, 106.7011391) within 10000 meters...\n",
      "Found 651 parks.\n",
      "Scanning for schools...\n",
      "Scanning for schools near (10.7763897, 106.7011391) within 10000 meters...\n",
      "Found 867 schools.\n",
      "Scanning for workplaces...\n",
      "Scanning for workplaces near (10.7763897, 106.7011391) within 10000 meters...\n",
      "Found 577 workplaces.\n",
      "Scanning for markets...\n",
      "Scanning for markets near (10.7763897, 106.7011391) within 10000 meters...\n",
      "Found 284 markets.\n",
      "Scanning for healthcare...\n",
      "Scanning for healthcare near (10.7763897, 106.7011391) within 10000 meters...\n",
      "Found 493 healthcare.\n",
      "Scanning for play_areas...\n",
      "Scanning for play_areas near (10.7763897, 106.7011391) within 10000 meters...\n",
      "Found 63 play_areas.\n",
      "Scanning for gyms...\n",
      "Scanning for gyms near (10.7763897, 106.7011391) within 10000 meters...\n",
      "Found 48 gyms.\n",
      "Person 0 assigned home at (10.772658517626647, 106.63402162985668).\n",
      "Person 0 assigned school at (10.7751001, 106.6344971).\n",
      "Person 0 assigned park at (10.773552887748009, 106.63560162175075).\n",
      "Trajectory built from (10.772658517626647, 106.63402162985668) to (10.7751001, 106.6344971) with 8 nodes.\n",
      "Trajectory built from (10.7751001, 106.6344971) to (10.772658517626647, 106.63402162985668) with 12 nodes.\n",
      "Trajectory built from (10.772658517626647, 106.63402162985668) to (10.773552887748009, 106.63560162175075) with 6 nodes.\n",
      "Trajectory built from (10.773552887748009, 106.63560162175075) to (10.772658517626647, 106.63402162985668) with 6 nodes.\n",
      "Person 1 assigned home at (10.780694948415604, 106.758068452185).\n",
      "Person 1 assigned workplace at (10.739228314967287, 106.6130594337309).\n",
      "Person 1 assigned gym at (10.777932, 106.7572755).\n",
      "Person 1 assigned market at (10.782796367718408, 106.75861387548659).\n",
      "Trajectory built from (10.780694948415604, 106.758068452185) to (10.739228314967287, 106.6130594337309) with 177 nodes.\n",
      "Trajectory built from (10.739228314967287, 106.6130594337309) to (10.782796367718408, 106.75861387548659) with 130 nodes.\n",
      "Trajectory built from (10.782796367718408, 106.75861387548659) to (10.739228314967287, 106.6130594337309) with 181 nodes.\n",
      "Trajectory built from (10.739228314967287, 106.6130594337309) to (10.777932, 106.7572755) with 121 nodes.\n",
      "Trajectory built from (10.777932, 106.7572755) to (10.780694948415604, 106.758068452185) with 8 nodes.\n",
      "Person 2 assigned home at (10.768333096685625, 106.64473692255122).\n",
      "Person 2 assigned workplace at (10.866381171276583, 106.63902982731948).\n",
      "Person 2 assigned gym at (10.763714145267128, 106.64863604553716).\n",
      "Person 2 assigned market at (10.7708442, 106.6529897).\n",
      "Trajectory built from (10.768333096685625, 106.64473692255122) to (10.866381171276583, 106.63902982731948) with 125 nodes.\n",
      "Trajectory built from (10.866381171276583, 106.63902982731948) to (10.7708442, 106.6529897) with 120 nodes.\n",
      "Trajectory built from (10.7708442, 106.6529897) to (10.866381171276583, 106.63902982731948) with 134 nodes.\n",
      "Trajectory built from (10.866381171276583, 106.63902982731948) to (10.763714145267128, 106.64863604553716) with 136 nodes.\n",
      "Trajectory built from (10.763714145267128, 106.64863604553716) to (10.768333096685625, 106.64473692255122) with 22 nodes.\n",
      "Person 3 assigned home at (10.76996957033146, 106.66345536661852).\n",
      "Person 3 assigned park at (10.7670592, 106.6610774).\n",
      "Person 3 assigned healthcare at (10.770774517008505, 106.65958348140188).\n",
      "Trajectory built from (10.76996957033146, 106.66345536661852) to (10.7670592, 106.6610774) with 8 nodes.\n",
      "Trajectory built from (10.7670592, 106.6610774) to (10.770774517008505, 106.65958348140188) with 12 nodes.\n",
      "Trajectory built from (10.770774517008505, 106.65958348140188) to (10.76996957033146, 106.66345536661852) with 21 nodes.\n",
      "Trajectory built from (10.76996957033146, 106.66345536661852) to (10.7670592, 106.6610774) with 8 nodes.\n",
      "Trajectory built from (10.7670592, 106.6610774) to (10.76996957033146, 106.66345536661852) with 8 nodes.\n",
      "Person 4 assigned home at (10.722688128274552, 106.71363822311491).\n",
      "Person 4 assigned park at (10.7230334, 106.71338286666665).\n",
      "Person 4 assigned healthcare at (10.7278961, 106.7080164).\n",
      "Trajectory built from (10.722688128274552, 106.71363822311491) to (10.7230334, 106.71338286666665) with 1 nodes.\n",
      "Trajectory built from (10.7230334, 106.71338286666665) to (10.7278961, 106.7080164) with 13 nodes.\n",
      "Trajectory built from (10.7278961, 106.7080164) to (10.722688128274552, 106.71363822311491) with 14 nodes.\n",
      "Trajectory built from (10.722688128274552, 106.71363822311491) to (10.7230334, 106.71338286666665) with 1 nodes.\n",
      "Trajectory built from (10.7230334, 106.71338286666665) to (10.722688128274552, 106.71363822311491) with 1 nodes.\n"
     ]
    }
   ],
   "source": [
    "# Create the survey\n",
    "survey = Survey(city_name, radius, number_of_people, start_date, end_date)"
   ]
  },
  {
   "cell_type": "code",
   "execution_count": 4,
   "metadata": {},
   "outputs": [
    {
     "name": "stdout",
     "output_type": "stream",
     "text": [
      "Survey data saved to origin_data/survey_results.csv\n",
      "File has been updated in place with commas replaced by tabs: origin_data/survey_results.csv\n",
      "Survey completed and results saved to 'survey_results.csv'.\n"
     ]
    }
   ],
   "source": [
    "survey_data = survey.simulate()  \n",
    "output_file = \"origin_data/survey_results.csv\"\n",
    "survey.save_to_csv(survey_data, output_file)\n",
    "replace_commas_with_tabs_in_place(output_file)\n",
    "print(\"Survey completed and results saved to 'survey_results.csv'.\")"
   ]
  }
 ],
 "metadata": {
  "kernelspec": {
   "display_name": ".venv",
   "language": "python",
   "name": "python3"
  },
  "language_info": {
   "codemirror_mode": {
    "name": "ipython",
    "version": 3
   },
   "file_extension": ".py",
   "mimetype": "text/x-python",
   "name": "python",
   "nbconvert_exporter": "python",
   "pygments_lexer": "ipython3",
   "version": "3.13.0"
  }
 },
 "nbformat": 4,
 "nbformat_minor": 2
}
